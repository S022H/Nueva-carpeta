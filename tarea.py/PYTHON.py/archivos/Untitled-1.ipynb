{
 "cells": [
  {
   "cell_type": "code",
   "execution_count": 1,
   "metadata": {},
   "outputs": [
    {
     "name": "stdout",
     "output_type": "stream",
     "text": [
      "     nombre   apellido  edad\n",
      "0  ezequiel  caballero    17\n",
      "1     dalto       rodi    27\n",
      "2     juana     dearco    45\n"
     ]
    }
   ],
   "source": [
    "import pandas as pd \n",
    "archivo= pd.read_csv(\"archivos\\\\archivo.csv\")\n",
    "print(archivo)"
   ]
  }
 ],
 "metadata": {
  "kernelspec": {
   "display_name": "Python 3",
   "language": "python",
   "name": "python3"
  },
  "language_info": {
   "codemirror_mode": {
    "name": "ipython",
    "version": 3
   },
   "file_extension": ".py",
   "mimetype": "text/x-python",
   "name": "python",
   "nbconvert_exporter": "python",
   "pygments_lexer": "ipython3",
   "version": "3.12.1"
  }
 },
 "nbformat": 4,
 "nbformat_minor": 2
}
